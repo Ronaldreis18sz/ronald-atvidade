{
  "nbformat": 4,
  "nbformat_minor": 0,
  "metadata": {
    "colab": {
      "provenance": [],
      "authorship_tag": "ABX9TyOpU5HyIWFRGVf7h/khB3Mo",
      "include_colab_link": true
    },
    "kernelspec": {
      "name": "python3",
      "display_name": "Python 3"
    },
    "language_info": {
      "name": "python"
    }
  },
  "cells": [
    {
      "cell_type": "markdown",
      "metadata": {
        "id": "view-in-github",
        "colab_type": "text"
      },
      "source": [
        "<a href=\"https://colab.research.google.com/github/Ronaldreis18sz/ronald-atvidade/blob/main/Untitled9.ipynb\" target=\"_parent\"><img src=\"https://colab.research.google.com/assets/colab-badge.svg\" alt=\"Open In Colab\"/></a>"
      ]
    },
    {
      "cell_type": "code",
      "execution_count": null,
      "metadata": {
        "id": "gsFYKH4Hx49e"
      },
      "outputs": [],
      "source": [
        "import csv\n",
        "\n",
        "\n",
        "def listar_opcoes():\n",
        "    print(\"=== Gerenciador de Tarefas ===\")\n",
        "    print(\"1 - Listar tarefas\")\n",
        "    print(\"2 - Adicionar tarefa\")\n",
        "    print(\"3 - Remover tarefa\")\n",
        "    print(\"4 - Sair\")\n",
        "\n",
        "\n",
        "def listar_tarefas(tarefas):\n",
        "    if not tarefas:\n",
        "        print(\"A lista de tarefas está vazia.\")\n",
        "    else:\n",
        "        print(\"Lista de Tarefas:\")\n",
        "        for idx, tarefa in enumerate(tarefas, start=1):\n",
        "            print(f\"{idx}. {taref\n",
        "def adicionar_tarefa(tarefas, nova_tarefa):\n",
        "    tarefas.append(nova_tarefa)\n",
        "    print(f\"Tarefa '{nova_tarefa}' adicionada com sucesso.\")\n",
        "\n",
        "\n",
        "def remover_tarefa(tarefas, indice):\n",
        "    if 1 <= indice <= len(tarefas):\n",
        "        tarefa_removida = tarefas.pop(indice - 1)\n",
        "        print(f\"Tarefa '{tarefa_removida}' removida com sucesso.\")\n",
        "    else:\n",
        "        print(\"Índice inválido.\")\n",
        "\n",
        "\n",
        "def ler_tarefas_csv():\n",
        "    try:\n",
        "        with open('tarefas.csv', 'r', newline='', encoding='utf-8') as file:\n",
        "            reader = csv.reader(file)\n",
        "            tarefas = list(reader)\n",
        "            return [tarefa for sublist in tarefas for tarefa in sublist]\n",
        "    except FileNotFoundError:\n",
        "        return []\n",
        "\n",
        "\n",
        "def salvar_tarefas_csv(tarefas):\n",
        "    with open('tarefas.csv', 'w', newline='', encoding='utf-8') as file:\n",
        "        writer = csv.writer(file)\n",
        "        for tarefa in tarefas:\n",
        "            writer.writerow([tarefa])\n",
        "\n",
        "\n",
        "def main():\n",
        "    tarefas = ler_tarefas_csv()\n",
        "\n",
        "    while True:\n",
        "        listar_opcoes()\n",
        "        opcao = input(\"Escolha uma opção: \")\n",
        "\n",
        "        if opcao == '1':\n",
        "            listar_tarefas(tarefas)\n",
        "        elif opcao == '2':\n",
        "            nova_tarefa = input(\"Digite a nova tarefa: \")\n",
        "            adicionar_tarefa(tarefas, nova_tarefa)\n",
        "        elif opcao == '3':\n",
        "            listar_tarefas(tarefas)\n",
        "            indice = int(input(\"Digite o índice da tarefa a ser removida: \"))\n",
        "            remover_tarefa(tarefas, indice)\n",
        "        elif opcao == '4':\n",
        "            salvar_tarefas_csv(tarefas)\n",
        "            print(\"Tarefas salvas. Encerrando programa.\")\n",
        "            break\n",
        "        else:\n",
        "            print(\"Opção inválida. Tente novamente.\")\n",
        "\n",
        "if __name__ == \"__main__\":\n",
        "    main()"
      ]
    }
  ]
}