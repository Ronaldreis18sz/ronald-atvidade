{
  "nbformat": 4,
  "nbformat_minor": 0,
  "metadata": {
    "colab": {
      "provenance": [],
      "authorship_tag": "ABX9TyMfbfF9ZyQUY20K5tx9QnOv",
      "include_colab_link": true
    },
    "kernelspec": {
      "name": "python3",
      "display_name": "Python 3"
    },
    "language_info": {
      "name": "python"
    }
  },
  "cells": [
    {
      "cell_type": "markdown",
      "metadata": {
        "id": "view-in-github",
        "colab_type": "text"
      },
      "source": [
        "<a href=\"https://colab.research.google.com/github/Ronaldreis18sz/ronald-atvidade/blob/main/Untitled3.ipynb\" target=\"_parent\"><img src=\"https://colab.research.google.com/assets/colab-badge.svg\" alt=\"Open In Colab\"/></a>"
      ]
    },
    {
      "cell_type": "markdown",
      "source": [
        "Parte 1"
      ],
      "metadata": {
        "id": "fGEweaCl8g1v"
      }
    },
    {
      "cell_type": "code",
      "source": [
        "import math\n",
        "\n",
        "\n",
        "def calcular_area_circulo(raio):\n",
        "    area = math.pi * raio**2\n",
        "    return area\n",
        "\n",
        "\n",
        "def calcular_area_triangulo(base, altura):\n",
        "    area = (base * altura) / 2\n",
        "    return area\n",
        "\n",
        "\n",
        "def calcular_area_retangulo(base, altura):\n",
        "    area = base * altura\n",
        "    return area\n",
        "\n",
        "\n",
        "def main():\n",
        "    print(\"Vamos calcular a área de algumas formas geométricas.\")\n",
        "\n",
        "    raio = float(input(\"Digite o raio do círculo em metros: \"))\n",
        "    area_circulo = calcular_area_circulo(raio)\n",
        "    print(f\"A área do círculo com raio {raio} metros é {area_circulo:.2f} metros quadrados.\")\n",
        "\n",
        "\n",
        "    base = float(input(\"\\nDigite a base do triângulo em metros: \"))\n",
        "    altura = float(input(\"Digite a altura do triângulo em metros: \"))\n",
        "    area_triangulo = calcular_area_triangulo(base, altura)\n",
        "    print(f\"A área do triângulo com base {base} metros e altura {altura} metros é {area_triangulo:.2f} metros quadrados.\")\n",
        "\n",
        "\n",
        "    base = float(input(\"\\nDigite a base do retângulo em metros: \"))\n",
        "    altura = float(input(\"Digite a altura do retângulo em metros: \"))\n",
        "    area_retangulo = calcular_area_retangulo(base, altura)\n",
        "    print(f\"A área do retângulo com base {base} metros e altura {altura} metros é {area_retangulo:.2f} metros quadrados.\")\n",
        "\n",
        "if __name__ == \"__main__\":\n",
        "    main()"
      ],
      "metadata": {
        "id": "R2KJ8GZZ8ntV"
      },
      "execution_count": null,
      "outputs": []
    },
    {
      "cell_type": "markdown",
      "source": [
        "Parte 2"
      ],
      "metadata": {
        "id": "9QuEHg9U8tlS"
      }
    },
    {
      "cell_type": "code",
      "source": [
        "import random\n",
        "\n",
        "def jogo_pedra_papel_tesoura():\n",
        "    print(\"Bem-vindo ao jogo Pedra, Papel, Tesoura!\")\n",
        "    print(\"Escolha uma opção:\")\n",
        "    print(\"1. Pedra\")\n",
        "    print(\"2. Papel\")\n",
        "    print(\"3. Tesoura\")\n",
        "\n",
        "    opcoes = ['pedra', 'papel', 'tesoura']\n",
        "    escolha_usuario = int(input(\"Digite o número correspondente à sua escolha: \"))\n",
        "\n",
        "    if escolha_usuario < 1 or escolha_usuario > 3:\n",
        "        print(\"Opção inválida. Por favor, escolha um número de 1 a 3.\")\n",
        "        return\n",
        "\n",
        "    escolha_usuario = opcoes[escolha_usuario - 1]\n",
        "    escolha_maquina = random.choice(opcoes)\n",
        "\n",
        "    print(f\"\\nVocê escolheu: {escolha_usuario}\")\n",
        "    print(f\"A máquina escolheu: {escolha_maquina}\\n\")\n",
        "\n",
        "\n",
        "    if escolha_usuario == escolha_maquina:\n",
        "        print(\"Empate!\")\n",
        "    elif (escolha_usuario == 'pedra' and escolha_maquina == 'tesoura') or \\\n",
        "         (escolha_usuario == 'tesoura' and escolha_maquina == 'papel') or \\\n",
        "         (escolha_usuario == 'papel' and escolha_maquina == 'pedra'):\n",
        "        print(\"Você ganhou!\")\n",
        "    else:\n",
        "        print(\"Você perdeu!\")\n",
        "\n",
        "if __name__ == \"__main__\":\n",
        "    jogo_pedra_papel_tesoura()"
      ],
      "metadata": {
        "id": "Ge7I2KcY8wv9"
      },
      "execution_count": null,
      "outputs": []
    }
  ]
}