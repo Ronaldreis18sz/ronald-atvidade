{
  "nbformat": 4,
  "nbformat_minor": 0,
  "metadata": {
    "colab": {
      "provenance": [],
      "authorship_tag": "ABX9TyMu7A4l+uozohePoXqFpuxl",
      "include_colab_link": true
    },
    "kernelspec": {
      "name": "python3",
      "display_name": "Python 3"
    },
    "language_info": {
      "name": "python"
    }
  },
  "cells": [
    {
      "cell_type": "markdown",
      "metadata": {
        "id": "view-in-github",
        "colab_type": "text"
      },
      "source": [
        "<a href=\"https://colab.research.google.com/github/Ronaldreis18sz/ronald-atvidade/blob/main/Untitled.ipynb\" target=\"_parent\"><img src=\"https://colab.research.google.com/assets/colab-badge.svg\" alt=\"Open In Colab\"/></a>"
      ]
    },
    {
      "cell_type": "code",
      "execution_count": null,
      "metadata": {
        "colab": {
          "base_uri": "https://localhost:8080/"
        },
        "id": "k9dPwPZp1aGy",
        "outputId": "8baa49f5-f02f-49ad-f19f-2ad1051cacf0"
      },
      "outputs": [
        {
          "name": "stdout",
          "output_type": "stream",
          "text": [
            "Opções disponíveis:\n",
            "1 - Listar as opções disponíveis\n",
            "2 - Listar as tarefas\n",
            "3 - Adicionar tarefas\n",
            "4 - Remover tarefas\n",
            "5 - Sair\n",
            "Escolha uma opção: 2\n",
            "Nenhuma tarefa encontrada.\n",
            "Opções disponíveis:\n",
            "1 - Listar as opções disponíveis\n",
            "2 - Listar as tarefas\n",
            "3 - Adicionar tarefas\n",
            "4 - Remover tarefas\n",
            "5 - Sair\n",
            "Escolha uma opção: 1\n",
            "Opções disponíveis:\n",
            "1 - Listar as opções disponíveis\n",
            "2 - Listar as tarefas\n",
            "3 - Adicionar tarefas\n",
            "4 - Remover tarefas\n",
            "5 - Sair\n",
            "Opções disponíveis:\n",
            "1 - Listar as opções disponíveis\n",
            "2 - Listar as tarefas\n",
            "3 - Adicionar tarefas\n",
            "4 - Remover tarefas\n",
            "5 - Sair\n",
            "Escolha uma opção: 3\n"
          ]
        }
      ],
      "source": [
        "import csv\n",
        "\n",
        "class TaskManager:\n",
        "    def __init__(self, filename='tasks.csv'):\n",
        "        self.filename = filename\n",
        "        self.tasks = []\n",
        "        self.load_tasks()\n",
        "\n",
        "    def load_tasks(self):\n",
        "        try:\n",
        "            with open(self.filename, mode='r', newline='') as file:\n",
        "                reader = csv.reader(file)\n",
        "                self.tasks = [row for row in reader]\n",
        "        except FileNotFoundError:\n",
        "            self.tasks = []\n",
        "\n",
        "    def save_tasks(self):\n",
        "        with open(self.filename, mode='w', newline='') as file:\n",
        "            writer = csv.writer(file)\n",
        "            writer.writerows(self.tasks)\n",
        "\n",
        "    def list_options(self):\n",
        "        print(\"Opções disponíveis:\")\n",
        "        print(\"1 - Listar as opções disponíveis\")\n",
        "        print(\"2 - Listar as tarefas\")\n",
        "        print(\"3 - Adicionar tarefas\")\n",
        "        print(\"4 - Remover tarefas\")\n",
        "        print(\"5 - Sair\")\n",
        "\n",
        "    def list_tasks(self):\n",
        "        if not self.tasks:\n",
        "            print(\"Nenhuma tarefa encontrada.\")\n",
        "        else:\n",
        "            for index, task in enumerate(self.tasks, start=1):\n",
        "                print(f\"{index}. {task[0]}\")\n",
        "\n",
        "    def add_task(self, task):\n",
        "        self.tasks.append([task])\n",
        "        self.save_tasks()\n",
        "        print(f\"Tarefa '{task}' adicionada com sucesso.\")\n",
        "\n",
        "    def remove_task(self, index):\n",
        "        if 0 < index <= len(self.tasks):\n",
        "            removed_task = self.tasks.pop(index - 1)\n",
        "            self.save_tasks()\n",
        "            print(f\"Tarefa '{removed_task[0]}' removida com sucesso.\")\n",
        "        else:\n",
        "            print(\"Índice inválido.\")\n",
        "\n",
        "    def run(self):\n",
        "        while True:\n",
        "            self.list_options()\n",
        "            choice = input(\"Escolha uma opção: \")\n",
        "\n",
        "            if choice == '1':\n",
        "                self.list_options()\n",
        "            elif choice == '2':\n",
        "                self.list_tasks()\n",
        "            elif choice == '3':\n",
        "                task = input(\"Digite a tarefa a ser adicionada: \")\n",
        "                self.add_task(task)\n",
        "            elif choice == '4':\n",
        "                self.list_tasks()\n",
        "                try:\n",
        "                    index = int(input(\"Digite o número da tarefa a ser removida: \"))\n",
        "                    self.remove_task(index)\n",
        "                except ValueError:\n",
        "                    print(\"Entrada inválida. Por favor, digite um número.\")\n",
        "            elif choice == '5':\n",
        "                print(\"Saindo do gerenciador de tarefas.\")\n",
        "                break\n",
        "            else:\n",
        "                print(\"Opção inválida. Por favor, escolha novamente.\")\n",
        "\n",
        "if __name__ == \"__main__\":\n",
        "    manager = TaskManager()\n",
        "    manager.run()"
      ]
    }
  ]
}