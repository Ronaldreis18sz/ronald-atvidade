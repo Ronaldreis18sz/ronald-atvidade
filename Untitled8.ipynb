{
  "nbformat": 4,
  "nbformat_minor": 0,
  "metadata": {
    "colab": {
      "provenance": [],
      "authorship_tag": "ABX9TyPdFtop3kWviLuqoggMO5/N",
      "include_colab_link": true
    },
    "kernelspec": {
      "name": "python3",
      "display_name": "Python 3"
    },
    "language_info": {
      "name": "python"
    }
  },
  "cells": [
    {
      "cell_type": "markdown",
      "metadata": {
        "id": "view-in-github",
        "colab_type": "text"
      },
      "source": [
        "<a href=\"https://colab.research.google.com/github/Ronaldreis18sz/ronald-atvidade/blob/main/Untitled8.ipynb\" target=\"_parent\"><img src=\"https://colab.research.google.com/assets/colab-badge.svg\" alt=\"Open In Colab\"/></a>"
      ]
    },
    {
      "cell_type": "code",
      "execution_count": null,
      "metadata": {
        "colab": {
          "base_uri": "https://localhost:8080/"
        },
        "id": "9glVxV2rMi9N",
        "outputId": "bc9284e2-5fb8-4265-c747-30d3b6e76463"
      },
      "outputs": [
        {
          "output_type": "stream",
          "name": "stdout",
          "text": [
            "Vamos calcular a área de algumas formas geométricas.\n"
          ]
        }
      ],
      "source": [
        "import math\n",
        "\n",
        "\n",
        "def calcular_area_circulo(raio):\n",
        "    area = math.pi * raio**2\n",
        "    return area\n",
        "\n",
        "\n",
        "def calcular_area_triangulo(base, altura):\n",
        "    area = (base * altura) / 2\n",
        "    return area\n",
        "\n",
        "\n",
        "def calcular_area_retangulo(base, altura):\n",
        "    area = base * altura\n",
        "    return area\n",
        "\n",
        "\n",
        "def main():\n",
        "    print(\"Vamos calcular a área de algumas formas geométricas.\")\n",
        "\n",
        "    raio = float(input(\"Digite o raio do círculo em metros: \"))\n",
        "    area_circulo = calcular_area_circulo(raio)\n",
        "    print(f\"A área do círculo com raio {raio} metros é {area_circulo:.2f} metros quadrados.\")\n",
        "\n",
        "\n",
        "    base = float(input(\"\\nDigite a base do triângulo em metros: \"))\n",
        "    altura = float(input(\"Digite a altura do triângulo em metros: \"))\n",
        "    area_triangulo = calcular_area_triangulo(base, altura)\n",
        "    print(f\"A área do triângulo com base {base} metros e altura {altura} metros é {area_triangulo:.2f} metros quadrados.\")\n",
        "\n",
        "\n",
        "    base = float(input(\"\\nDigite a base do retângulo em metros: \"))\n",
        "    altura = float(input(\"Digite a altura do retângulo em metros: \"))\n",
        "    area_retangulo = calcular_area_retangulo(base, altura)\n",
        "    print(f\"A área do retângulo com base {base} metros e altura {altura} metros é {area_retangulo:.2f} metros quadrados.\")\n",
        "\n",
        "if __name__ == \"__main__\":\n",
        "    main()"
      ]
    }
  ]
}