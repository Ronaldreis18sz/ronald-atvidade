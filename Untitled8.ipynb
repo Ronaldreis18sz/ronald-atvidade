{
  "nbformat": 4,
  "nbformat_minor": 0,
  "metadata": {
    "colab": {
      "provenance": [],
      "authorship_tag": "ABX9TyN4zvo3LRedYzWkAUVEAlW9",
      "include_colab_link": true
    },
    "kernelspec": {
      "name": "python3",
      "display_name": "Python 3"
    },
    "language_info": {
      "name": "python"
    }
  },
  "cells": [
    {
      "cell_type": "markdown",
      "metadata": {
        "id": "view-in-github",
        "colab_type": "text"
      },
      "source": [
        "<a href=\"https://colab.research.google.com/github/Ronaldreis18sz/ronald-atvidade/blob/main/Untitled8.ipynb\" target=\"_parent\"><img src=\"https://colab.research.google.com/assets/colab-badge.svg\" alt=\"Open In Colab\"/></a>"
      ]
    },
    {
      "cell_type": "markdown",
      "source": [
        "parte 1"
      ],
      "metadata": {
        "id": "jPGEACVmNRac"
      }
    },
    {
      "cell_type": "code",
      "execution_count": null,
      "metadata": {
        "colab": {
          "base_uri": "https://localhost:8080/"
        },
        "id": "9glVxV2rMi9N",
        "outputId": "b5c0e98a-e0de-4f08-efb9-d21ce02d7fbd"
      },
      "outputs": [
        {
          "output_type": "stream",
          "name": "stdout",
          "text": [
            "Vamos calcular a área de algumas formas geométricas.\n"
          ]
        }
      ],
      "source": [
        "import math\n",
        "\n",
        "\n",
        "def calcular_area_circulo(raio):\n",
        "    area = math.pi * raio**2\n",
        "    return area\n",
        "\n",
        "\n",
        "def calcular_area_triangulo(base, altura):\n",
        "    area = (base * altura) / 2\n",
        "    return area\n",
        "\n",
        "\n",
        "def calcular_area_retangulo(base, altura):\n",
        "    area = base * altura\n",
        "    return area\n",
        "\n",
        "\n",
        "def main():\n",
        "    print(\"Vamos calcular a área de algumas formas geométricas.\")\n",
        "\n",
        "    raio = float(input(\"Digite o raio do círculo em metros: \"))\n",
        "    area_circulo = calcular_area_circulo(raio)\n",
        "    print(f\"A área do círculo com raio {raio} metros é {area_circulo:.2f} metros quadrados.\")\n",
        "\n",
        "\n",
        "    base = float(input(\"\\nDigite a base do triângulo em metros: \"))\n",
        "    altura = float(input(\"Digite a altura do triângulo em metros: \"))\n",
        "    area_triangulo = calcular_area_triangulo(base, altura)\n",
        "    print(f\"A área do triângulo com base {base} metros e altura {altura} metros é {area_triangulo:.2f} metros quadrados.\")\n",
        "\n",
        "\n",
        "    base = float(input(\"\\nDigite a base do retângulo em metros: \"))\n",
        "    altura = float(input(\"Digite a altura do retângulo em metros: \"))\n",
        "    area_retangulo = calcular_area_retangulo(base, altura)\n",
        "    print(f\"A área do retângulo com base {base} metros e altura {altura} metros é {area_retangulo:.2f} metros quadrados.\")\n",
        "\n",
        "if __name__ == \"__main__\":\n",
        "    main()"
      ]
    },
    {
      "cell_type": "markdown",
      "source": [
        "parte 2"
      ],
      "metadata": {
        "id": "pOPjio9TN3zb"
      }
    },
    {
      "cell_type": "code",
      "source": [
        "import random\n",
        "\n",
        "def jogo_pedra_papel_tesoura():\n",
        "    print(\"Bem-vindo ao jogo Pedra, Papel, Tesoura!\")\n",
        "    print(\"Escolha uma opção:\")\n",
        "    print(\"1. Pedra\")\n",
        "    print(\"2. Papel\")\n",
        "    print(\"3. Tesoura\")\n",
        "\n",
        "    opcoes = ['pedra', 'papel', 'tesoura']\n",
        "    escolha_usuario = int(input(\"Digite o número correspondente à sua escolha: \"))\n",
        "\n",
        "    if escolha_usuario < 1 or escolha_usuario > 3:\n",
        "        print(\"Opção inválida. Por favor, escolha um número de 1 a 3.\")\n",
        "        return\n",
        "\n",
        "    escolha_usuario = opcoes[escolha_usuario - 1]\n",
        "    escolha_maquina = random.choice(opcoes)\n",
        "\n",
        "    print(f\"\\nVocê escolheu: {escolha_usuario}\")\n",
        "    print(f\"A máquina escolheu: {escolha_maquina}\\n\")\n",
        "\n",
        "\n",
        "    if escolha_usuario == escolha_maquina:\n",
        "        print(\"Empate!\")\n",
        "    elif (escolha_usuario == 'pedra' and escolha_maquina == 'tesoura') or \\\n",
        "         (escolha_usuario == 'tesoura' and escolha_maquina == 'papel') or \\\n",
        "         (escolha_usuario == 'papel' and escolha_maquina == 'pedra'):\n",
        "        print(\"Você ganhou!\")\n",
        "    else:\n",
        "        print(\"Você perdeu!\")\n",
        "\n",
        "if __name__ == \"__main__\":\n",
        "    jogo_pedra_papel_tesoura()"
      ],
      "metadata": {
        "colab": {
          "base_uri": "https://localhost:8080/"
        },
        "id": "XESO9L-wNOH1",
        "outputId": "7cddf314-d15b-4796-c682-b376ce0207f2"
      },
      "execution_count": 5,
      "outputs": [
        {
          "output_type": "stream",
          "name": "stdout",
          "text": [
            "Bem-vindo ao jogo Pedra, Papel, Tesoura!\n",
            "Escolha uma opção:\n",
            "1. Pedra\n",
            "2. Papel\n",
            "3. Tesoura\n",
            "Digite o número correspondente à sua escolha: 1\n",
            "\n",
            "Você escolheu: pedra\n",
            "A máquina escolheu: tesoura\n",
            "\n",
            "Você ganhou!\n"
          ]
        }
      ]
    }
  ]
}