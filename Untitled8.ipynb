{
  "nbformat": 4,
  "nbformat_minor": 0,
  "metadata": {
    "colab": {
      "provenance": [],
      "authorship_tag": "ABX9TyOtGr/QDA1plQRdw2PGSNRm",
      "include_colab_link": true
    },
    "kernelspec": {
      "name": "python3",
      "display_name": "Python 3"
    },
    "language_info": {
      "name": "python"
    }
  },
  "cells": [
    {
      "cell_type": "markdown",
      "metadata": {
        "id": "view-in-github",
        "colab_type": "text"
      },
      "source": [
        "<a href=\"https://colab.research.google.com/github/Ronaldreis18sz/ronald-atvidade/blob/main/Untitled8.ipynb\" target=\"_parent\"><img src=\"https://colab.research.google.com/assets/colab-badge.svg\" alt=\"Open In Colab\"/></a>"
      ]
    },
    {
      "cell_type": "markdown",
      "source": [
        "parte 1"
      ],
      "metadata": {
        "id": "jPGEACVmNRac"
      }
    },
    {
      "cell_type": "code",
      "execution_count": null,
      "metadata": {
        "colab": {
          "base_uri": "https://localhost:8080/"
        },
        "id": "9glVxV2rMi9N",
        "outputId": "ab9155d8-bed1-4096-b81f-e9f4cd181b94"
      },
      "outputs": [
        {
          "output_type": "stream",
          "name": "stdout",
          "text": [
            "Vamos calcular a área de algumas formas geométricas.\n"
          ]
        }
      ],
      "source": [
        "import math\n",
        "\n",
        "\n",
        "def calcular_area_circulo(raio):\n",
        "    area = math.pi * raio**2\n",
        "    return area\n",
        "\n",
        "\n",
        "def calcular_area_triangulo(base, altura):\n",
        "    area = (base * altura) / 2\n",
        "    return area\n",
        "\n",
        "\n",
        "def calcular_area_retangulo(base, altura):\n",
        "    area = base * altura\n",
        "    return area\n",
        "\n",
        "\n",
        "def main():\n",
        "    print(\"Vamos calcular a área de algumas formas geométricas.\")\n",
        "\n",
        "    raio = float(input(\"Digite o raio do círculo em metros: \"))\n",
        "    area_circulo = calcular_area_circulo(raio)\n",
        "    print(f\"A área do círculo com raio {raio} metros é {area_circulo:.2f} metros quadrados.\")\n",
        "\n",
        "\n",
        "    base = float(input(\"\\nDigite a base do triângulo em metros: \"))\n",
        "    altura = float(input(\"Digite a altura do triângulo em metros: \"))\n",
        "    area_triangulo = calcular_area_triangulo(base, altura)\n",
        "    print(f\"A área do triângulo com base {base} metros e altura {altura} metros é {area_triangulo:.2f} metros quadrados.\")\n",
        "\n",
        "\n",
        "    base = float(input(\"\\nDigite a base do retângulo em metros: \"))\n",
        "    altura = float(input(\"Digite a altura do retângulo em metros: \"))\n",
        "    area_retangulo = calcular_area_retangulo(base, altura)\n",
        "    print(f\"A área do retângulo com base {base} metros e altura {altura} metros é {area_retangulo:.2f} metros quadrados.\")\n",
        "\n",
        "if __name__ == \"__main__\":\n",
        "    main()"
      ]
    },
    {
      "cell_type": "markdown",
      "source": [
        "parte 2"
      ],
      "metadata": {
        "id": "pOPjio9TN3zb"
      }
    },
    {
      "cell_type": "code",
      "source": [
        "import random\n",
        "\n",
        "def jogo_pedra_papel_tesoura():\n",
        "    print(\"Bem-vindo ao jogo Pedra, Papel, Tesoura!\")\n",
        "    print(\"Escolha uma opção:\")\n",
        "    print(\"1. Pedra\")\n",
        "    print(\"2. Papel\")\n",
        "    print(\"3. Tesoura\")\n",
        "\n",
        "    opcoes = ['pedra', 'papel', 'tesoura']\n",
        "    escolha_usuario = int(input(\"Digite o número correspondente à sua escolha: \"))\n",
        "\n",
        "    if escolha_usuario < 1 or escolha_usuario > 3:\n",
        "        print(\"Opção inválida. Por favor, escolha um número de 1 a 3.\")\n",
        "        return\n",
        "\n",
        "    escolha_usuario = opcoes[escolha_usuario - 1]\n",
        "    escolha_maquina = random.choice(opcoes)\n",
        "\n",
        "    print(f\"\\nVocê escolheu: {escolha_usuario}\")\n",
        "    print(f\"A máquina escolheu: {escolha_maquina}\\n\")\n",
        "\n",
        "\n",
        "    if escolha_usuario == escolha_maquina:\n",
        "        print(\"Empate!\")\n",
        "    elif (escolha_usuario == 'pedra' and escolha_maquina == 'tesoura') or \\\n",
        "         (escolha_usuario == 'tesoura' and escolha_maquina == 'papel') or \\\n",
        "         (escolha_usuario == 'papel' and escolha_maquina == 'pedra'):\n",
        "        print(\"Você ganhou!\")\n",
        "    else:\n",
        "        print(\"Você perdeu!\")\n",
        "\n",
        "if __name__ == \"__main__\":\n",
        "    jogo_pedra_papel_tesoura()"
      ],
      "metadata": {
        "colab": {
          "base_uri": "https://localhost:8080/"
        },
        "id": "XESO9L-wNOH1",
        "outputId": "7cddf314-d15b-4796-c682-b376ce0207f2"
      },
      "execution_count": 5,
      "outputs": [
        {
          "output_type": "stream",
          "name": "stdout",
          "text": [
            "Bem-vindo ao jogo Pedra, Papel, Tesoura!\n",
            "Escolha uma opção:\n",
            "1. Pedra\n",
            "2. Papel\n",
            "3. Tesoura\n",
            "Digite o número correspondente à sua escolha: 1\n",
            "\n",
            "Você escolheu: pedra\n",
            "A máquina escolheu: tesoura\n",
            "\n",
            "Você ganhou!\n"
          ]
        }
      ]
    },
    {
      "cell_type": "markdown",
      "source": [
        "parte 3"
      ],
      "metadata": {
        "id": "uFQwBo9lOXRL"
      }
    },
    {
      "cell_type": "code",
      "source": [
        "import random\n",
        "\n",
        "def escolher_palavra():\n",
        "\n",
        "    palavras = ['abacaxi', 'banana', 'morango', 'laranja', 'uva', 'melancia', 'mamão', 'limão', 'maçã', 'pera']\n",
        "    return random.choice(palavras).upper()\n",
        "\n",
        "def jogar_forca(palavra_secreta):\n",
        "\n",
        "    letras_corretas = set()\n",
        "    letras_incorretas = set()\n",
        "    tentativas_max = 6\n",
        "    tentativas = 0\n",
        "    palavra_descoberta = ['_'] * len(palavra_secreta)\n",
        "\n",
        "    print(\"Bem-vindo ao jogo da forca!\")\n",
        "    print(\"Adivinhe a palavra secreta.\")\n",
        "    print(\"Dica: Fruta\")\n",
        "\n",
        "    while tentativas < tentativas_max:\n",
        "\n",
        "        print(\"\\nPalavra: \" + ' '.join(palavra_descoberta))\n",
        "\n",
        "\n",
        "        print(\"Letras erradas: \" + ' '.join(letras_incorretas))\n",
        "\n",
        "\n",
        "        tentativa = input(\"\\nDigite uma letra ou a palavra completa: \").strip().upper()\n",
        "\n",
        "        if len(tentativa) == 1 and tentativa.isalpha():\n",
        "\n",
        "            if tentativa in letras_corretas or tentativa in letras_incorretas:\n",
        "                print(\"Você já tentou esta letra. Tente novamente.\")\n",
        "            elif tentativa in palavra_secreta:\n",
        "                print(f\"Letra '{tentativa}' encontrada na palavra!\")\n",
        "                letras_corretas.add(tentativa)\n",
        "\n",
        "                for i in range(len(palavra_secreta)):\n",
        "                    if palavra_secreta[i] == tentativa:\n",
        "                        palavra_descoberta[i] = tentativa\n",
        "\n",
        "                if '_' not in palavra_descoberta:\n",
        "                    print(\"\\nParabéns! Você acertou a palavra: \" + ''.join(palavra_descoberta))\n",
        "                    return\n",
        "            else:\n",
        "                print(f\"Letra '{tentativa}' não encontrada na palavra.\")\n",
        "                letras_incorretas.add(tentativa)\n",
        "                tentativas += 1\n",
        "        elif len(tentativa) == len(palavra_secreta) and tentativa.isalpha():\n",
        "\n",
        "            if tentativa == palavra_secreta:\n",
        "                print(\"\\nParabéns! Você acertou a palavra: \" + palavra_secreta)\n",
        "                return\n",
        "            else:\n",
        "                print(\"\\nPalavra incorreta. Tente novamente.\")\n",
        "                tentativas += 1\n",
        "        else:\n",
        "            print(\"\\nEntrada inválida. Por favor, digite uma única letra ou a palavra completa.\")\n",
        "\n",
        "\n",
        "    print(\"\\nVocê perdeu! A palavra era: \" + palavra_secreta)\n",
        "\n",
        "if __name__ == \"__main__\":\n",
        "    palavra_secreta = escolher_palavra()\n",
        "    jogar_forca(palavra_secreta)"
      ],
      "metadata": {
        "colab": {
          "base_uri": "https://localhost:8080/"
        },
        "id": "ho12uz8tOZCS",
        "outputId": "5bd59d5f-55bf-4cc3-afb8-1a16f22fcae3"
      },
      "execution_count": 7,
      "outputs": [
        {
          "output_type": "stream",
          "name": "stdout",
          "text": [
            "Bem-vindo ao jogo da forca!\n",
            "Adivinhe a palavra secreta.\n",
            "Dica: Fruta\n",
            "\n",
            "Palavra: _ _ _ _\n",
            "Letras erradas: \n",
            "\n",
            "Digite uma letra ou a palavra completa: Galo\n",
            "\n",
            "Palavra incorreta. Tente novamente.\n",
            "\n",
            "Palavra: _ _ _ _\n",
            "Letras erradas: \n",
            "\n",
            "Digite uma letra ou a palavra completa: g\n",
            "Letra 'G' não encontrada na palavra.\n",
            "\n",
            "Palavra: _ _ _ _\n",
            "Letras erradas: G\n",
            "\n",
            "Digite uma letra ou a palavra completa: a\n",
            "Letra 'A' encontrada na palavra!\n",
            "\n",
            "Palavra: _ A _ _\n",
            "Letras erradas: G\n",
            "\n",
            "Digite uma letra ou a palavra completa: o\n",
            "Letra 'O' não encontrada na palavra.\n",
            "\n",
            "Palavra: _ A _ _\n",
            "Letras erradas: O G\n",
            "\n",
            "Digite uma letra ou a palavra completa: e\n",
            "Letra 'E' não encontrada na palavra.\n",
            "\n",
            "Palavra: _ A _ _\n",
            "Letras erradas: E O G\n",
            "\n",
            "Digite uma letra ou a palavra completa: v\n",
            "Letra 'V' não encontrada na palavra.\n",
            "\n",
            "Palavra: _ A _ _\n",
            "Letras erradas: E V O G\n",
            "\n",
            "Digite uma letra ou a palavra completa: c\n",
            "Letra 'C' não encontrada na palavra.\n",
            "\n",
            "Você perdeu! A palavra era: MAÇÃ\n"
          ]
        }
      ]
    }
  ]
}