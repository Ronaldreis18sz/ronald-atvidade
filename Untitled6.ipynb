{
  "nbformat": 4,
  "nbformat_minor": 0,
  "metadata": {
    "colab": {
      "provenance": [],
      "authorship_tag": "ABX9TyN4tK9/F8rHh0gUouZV475l",
      "include_colab_link": true
    },
    "kernelspec": {
      "name": "python3",
      "display_name": "Python 3"
    },
    "language_info": {
      "name": "python"
    }
  },
  "cells": [
    {
      "cell_type": "markdown",
      "metadata": {
        "id": "view-in-github",
        "colab_type": "text"
      },
      "source": [
        "<a href=\"https://colab.research.google.com/github/Ronaldreis18sz/ronald-atvidade/blob/main/Untitled6.ipynb\" target=\"_parent\"><img src=\"https://colab.research.google.com/assets/colab-badge.svg\" alt=\"Open In Colab\"/></a>"
      ]
    },
    {
      "cell_type": "code",
      "execution_count": 13,
      "metadata": {
        "id": "F-l1ZwUYL9Yn"
      },
      "outputs": [],
      "source": [
        "def main():\n",
        "    nome = input(\"Por favor, digite seu nome: \")\n",
        "    ano_nascimento = int(input(\"Por favor, digite seu ano de nascimento: \"))\n",
        "\n",
        "    idade = 2024 - ano_nascimento\n",
        "\n",
        "    if idade < 18:\n",
        "        print(f\"{nome}, você é menor de idade e não pode continuar.\")\n",
        "    else:\n",
        "        escolaridade = input(\"Por favor, digite sua escolaridade (ensino médio completo ou ensino superior completo): \")\n",
        "\n",
        "        if escolaridade == \"ensino médio completo\":\n",
        "            print(f\"{nome}, aqui estão algumas opções de cursos superiores que você pode fazer:\")\n",
        "            cursos_superiores = [\n",
        "                \"Engenharia de Software\",\n",
        "                \"Medicina\",\n",
        "                \"Direito\",\n",
        "                \"Administração\",\n",
        "                \"Arquitetura\"\n",
        "            ]\n",
        "            for curso in cursos_superiores:\n",
        "                print(f\"- {curso}\")\n",
        "\n",
        "        elif escolaridade == \"ensino superior completo\":\n",
        "            print(f\"{nome}, aqui estão algumas opções de pós-graduação que você pode fazer:\")\n",
        "            pos_graduacoes = [\n",
        "                \"MBA em Gestão de Projetos\",\n",
        "                \"Mestrado em Inteligência Artificial\",\n",
        "                \"Especialização em Direito Civil\",\n",
        "                \"Doutorado em Física\",\n",
        "                \"Pós-Graduação em Psicologia Clínica\"\n",
        "            ]\n",
        "            for pos in pos_graduacoes:\n",
        "                print(f\"- {pos}\")\n",
        "        else:\n",
        "            print(\"Escolaridade não reconhecida. Por favor, digite 'ensino médio completo' ou 'ensino superior completo'.\")\n",
        "    if __name__ == \"__main__\":\n",
        "       main()\n",
        "\n",
        "\n",
        ""
      ]
    },
    {
      "cell_type": "code",
      "source": [],
      "metadata": {
        "id": "JVaQwmdhPvbC"
      },
      "execution_count": null,
      "outputs": []
    }
  ]
}