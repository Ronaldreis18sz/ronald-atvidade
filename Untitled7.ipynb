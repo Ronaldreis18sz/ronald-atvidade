{
  "nbformat": 4,
  "nbformat_minor": 0,
  "metadata": {
    "colab": {
      "provenance": [],
      "authorship_tag": "ABX9TyNLkvARPC0NBVQsSNXv0ne8",
      "include_colab_link": true
    },
    "kernelspec": {
      "name": "python3",
      "display_name": "Python 3"
    },
    "language_info": {
      "name": "python"
    }
  },
  "cells": [
    {
      "cell_type": "markdown",
      "metadata": {
        "id": "view-in-github",
        "colab_type": "text"
      },
      "source": [
        "<a href=\"https://colab.research.google.com/github/Ronaldreis18sz/ronald-atvidade/blob/main/Untitled7.ipynb\" target=\"_parent\"><img src=\"https://colab.research.google.com/assets/colab-badge.svg\" alt=\"Open In Colab\"/></a>"
      ]
    },
    {
      "cell_type": "code",
      "execution_count": null,
      "metadata": {
        "id": "e2WrzFfkh8fa"
      },
      "outputs": [],
      "source": []
    },
    {
      "cell_type": "code",
      "source": [
        "import csv\n",
        "\n",
        "class ItemManager:\n",
        "    def __init__(self, filename='items.csv'):\n",
        "        self.filename = filename\n",
        "        self.items = []\n",
        "        self.load_items()\n",
        "\n",
        "    def load_items(self):\n",
        "        try:\n",
        "            with open(self.filename, mode='r', newline='') as file:\n",
        "                reader = csv.DictReader(file)\n",
        "                self.items = list(reader)\n",
        "        except FileNotFoundError:\n",
        "            self.items = []\n",
        "\n",
        "    def save_items(self):\n",
        "        with open(self.filename, mode='w', newline='') as file:\n",
        "            fieldnames = ['id', 'name', 'description']\n",
        "            writer = csv.DictWriter(file, fieldnames=fieldnames)\n",
        "            writer.writeheader()\n",
        "            writer.writerows(self.items)\n",
        "\n",
        "    def list_items(self):\n",
        "        if not self.items:\n",
        "            print(\"Nenhum item encontrado.\")\n",
        "        else:\n",
        "            for item in self.items:\n",
        "                print(f\"ID: {item['id']}, Nome: {item['name']}, Descrição: {item['description']}\")\n",
        "\n",
        "    def add_item(self, name, description):\n",
        "        item_id = str(len(self.items) + 1)\n",
        "        new_item = {'id': item_id, 'name': name, 'description': description}\n",
        "        self.items.append(new_item)\n",
        "        self.save_items()\n",
        "        print(f\"Item '{name}' adicionado com sucesso.\")\n",
        "\n",
        "    def edit_item(self, item_id, name=None, description=None):\n",
        "        for item in self.items:\n",
        "            if item['id'] == item_id:\n",
        "                if name:\n",
        "                    item['name'] = name\n",
        "                if description:\n",
        "                    item['description'] = description\n",
        "                self.save_items()\n",
        "                print(f\"Item ID {item_id} editado com sucesso.\")\n",
        "                return\n",
        "        print(\"ID do item não encontrado.\")\n",
        "\n",
        "    def delete_item(self, item_id):\n",
        "        for item in self.items:\n",
        "            if item['id'] == item_id:\n",
        "                self.items.remove(item)\n",
        "                self.save_items()\n",
        "                print(f\"Item ID {item_id} removido com sucesso.\")\n",
        "                return\n",
        "        print(\"ID do item não encontrado.\")\n",
        "\n",
        "    def run(self):\n",
        "        while True:\n",
        "            print(\"\\nOpções disponíveis:\")\n",
        "            print(\"1 - Listar itens\")\n",
        "            print(\"2 - Adicionar item\")\n",
        "            print(\"3 - Editar item\")\n",
        "            print(\"4 - Excluir item\")\n",
        "            print(\"5 - Sair\")\n",
        "            choice = input(\"Escolha uma opção: \")\n",
        "\n",
        "            if choice == '1':\n",
        "                self.list_items()\n",
        "            elif choice == '2':\n",
        "                name = input(\"Digite o nome do item: \")\n",
        "                description = input(\"Digite a descrição do item: \")\n",
        "                self.add_item(name, description)\n",
        "            elif choice == '3':\n",
        "                item_id = input(\"Digite o ID do item a ser editado: \")\n",
        "                name = input(\"Digite o novo nome do item (deixe em branco para não alterar): \")\n",
        "                description = input(\"Digite a nova descrição do item (deixe em branco para não alterar): \")\n",
        "                self.edit_item(item_id, name, description)\n",
        "            elif choice == '4':\n",
        "                item_id = input(\"Digite o ID do item a ser excluído: \")\n",
        "                self.delete_item(item_id)\n",
        "            elif choice == '5':\n",
        "                print(\"Saindo do gerenciador de itens.\")\n",
        "                break\n",
        "            else:\n",
        "                print(\"Opção inválida. Por favor, escolha novamente.\")\n",
        "\n",
        "if __name__ == \"__main__\":\n",
        "    manager = ItemManager()\n",
        "    manager.run()"
      ],
      "metadata": {
        "id": "LlxYEyU68c1v"
      },
      "execution_count": null,
      "outputs": []
    }
  ]
}